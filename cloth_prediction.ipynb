{
 "cells": [
  {
   "cell_type": "markdown",
   "id": "ca939004",
   "metadata": {
    "id": "ca939004"
   },
   "source": [
    "# importing Neccesary Libraries "
   ]
  },
  {
   "cell_type": "code",
   "execution_count": 1,
   "id": "debccdfb",
   "metadata": {
    "id": "debccdfb"
   },
   "outputs": [],
   "source": [
    "import numpy as np\n",
    "import pandas as pd\n",
    "import seaborn as sns\n",
    "import matplotlib.pyplot as plt\n",
    "from sklearn.linear_model import LogisticRegression\n",
    "from sklearn.model_selection import train_test_split,cross_val_score,StratifiedKFold\n",
    "from sklearn.metrics import classification_report \n",
    "from sklearn.ensemble import RandomForestClassifier\n",
    "from sklearn.tree import DecisionTreeClassifier\n",
    "from sklearn.preprocessing import StandardScaler\n",
    "import warnings\n",
    "warnings.filterwarnings(\"ignore\")"
   ]
  },
  {
   "cell_type": "markdown",
   "id": "355c8d40",
   "metadata": {
    "id": "355c8d40"
   },
   "source": [
    "# Loading the dataset"
   ]
  },
  {
   "cell_type": "code",
   "execution_count": 2,
   "id": "3292c851",
   "metadata": {
    "id": "3292c851"
   },
   "outputs": [],
   "source": [
    "data=pd.read_csv('final_test.csv')\n"
   ]
  },
  {
   "cell_type": "code",
   "execution_count": null,
   "id": "d07cba36",
   "metadata": {
    "id": "d07cba36"
   },
   "outputs": [],
   "source": []
  },
  {
   "cell_type": "markdown",
   "id": "bcda0bc8",
   "metadata": {
    "id": "bcda0bc8"
   },
   "source": [
    "# Data Analysis"
   ]
  },
  {
   "cell_type": "code",
   "execution_count": 3,
   "id": "f656d47f",
   "metadata": {
    "id": "f656d47f",
    "outputId": "2ff78dde-8526-44b9-8632-80a888972e08"
   },
   "outputs": [
    {
     "data": {
      "text/html": [
       "<div>\n",
       "<style scoped>\n",
       "    .dataframe tbody tr th:only-of-type {\n",
       "        vertical-align: middle;\n",
       "    }\n",
       "\n",
       "    .dataframe tbody tr th {\n",
       "        vertical-align: top;\n",
       "    }\n",
       "\n",
       "    .dataframe thead th {\n",
       "        text-align: right;\n",
       "    }\n",
       "</style>\n",
       "<table border=\"1\" class=\"dataframe\">\n",
       "  <thead>\n",
       "    <tr style=\"text-align: right;\">\n",
       "      <th></th>\n",
       "      <th>weight</th>\n",
       "      <th>age</th>\n",
       "      <th>height</th>\n",
       "      <th>size</th>\n",
       "    </tr>\n",
       "  </thead>\n",
       "  <tbody>\n",
       "    <tr>\n",
       "      <th>0</th>\n",
       "      <td>62</td>\n",
       "      <td>28.0</td>\n",
       "      <td>172.72</td>\n",
       "      <td>XL</td>\n",
       "    </tr>\n",
       "    <tr>\n",
       "      <th>1</th>\n",
       "      <td>59</td>\n",
       "      <td>36.0</td>\n",
       "      <td>167.64</td>\n",
       "      <td>L</td>\n",
       "    </tr>\n",
       "    <tr>\n",
       "      <th>2</th>\n",
       "      <td>61</td>\n",
       "      <td>34.0</td>\n",
       "      <td>165.10</td>\n",
       "      <td>M</td>\n",
       "    </tr>\n",
       "    <tr>\n",
       "      <th>3</th>\n",
       "      <td>65</td>\n",
       "      <td>27.0</td>\n",
       "      <td>175.26</td>\n",
       "      <td>L</td>\n",
       "    </tr>\n",
       "    <tr>\n",
       "      <th>4</th>\n",
       "      <td>62</td>\n",
       "      <td>45.0</td>\n",
       "      <td>172.72</td>\n",
       "      <td>M</td>\n",
       "    </tr>\n",
       "  </tbody>\n",
       "</table>\n",
       "</div>"
      ],
      "text/plain": [
       "   weight   age  height size\n",
       "0      62  28.0  172.72   XL\n",
       "1      59  36.0  167.64    L\n",
       "2      61  34.0  165.10    M\n",
       "3      65  27.0  175.26    L\n",
       "4      62  45.0  172.72    M"
      ]
     },
     "execution_count": 3,
     "metadata": {},
     "output_type": "execute_result"
    }
   ],
   "source": [
    "data.head(5)\n",
    "\n"
   ]
  },
  {
   "cell_type": "code",
   "execution_count": 4,
   "id": "7f274b4f",
   "metadata": {
    "id": "7f274b4f",
    "outputId": "7fda13d9-3b64-4b24-86e2-0c5f76decd7c"
   },
   "outputs": [
    {
     "name": "stdout",
     "output_type": "stream",
     "text": [
      "<class 'pandas.core.frame.DataFrame'>\n",
      "RangeIndex: 119734 entries, 0 to 119733\n",
      "Data columns (total 4 columns):\n",
      " #   Column  Non-Null Count   Dtype  \n",
      "---  ------  --------------   -----  \n",
      " 0   weight  119734 non-null  int64  \n",
      " 1   age     119477 non-null  float64\n",
      " 2   height  119404 non-null  float64\n",
      " 3   size    119734 non-null  object \n",
      "dtypes: float64(2), int64(1), object(1)\n",
      "memory usage: 3.7+ MB\n"
     ]
    }
   ],
   "source": [
    "data.info()\n"
   ]
  },
  {
   "cell_type": "code",
   "execution_count": 5,
   "id": "4dba8028",
   "metadata": {
    "id": "4dba8028",
    "outputId": "4ed0959c-f079-42e3-d74c-1d6b0f5a71a6"
   },
   "outputs": [
    {
     "data": {
      "text/html": [
       "<div>\n",
       "<style scoped>\n",
       "    .dataframe tbody tr th:only-of-type {\n",
       "        vertical-align: middle;\n",
       "    }\n",
       "\n",
       "    .dataframe tbody tr th {\n",
       "        vertical-align: top;\n",
       "    }\n",
       "\n",
       "    .dataframe thead th {\n",
       "        text-align: right;\n",
       "    }\n",
       "</style>\n",
       "<table border=\"1\" class=\"dataframe\">\n",
       "  <thead>\n",
       "    <tr style=\"text-align: right;\">\n",
       "      <th></th>\n",
       "      <th>weight</th>\n",
       "      <th>age</th>\n",
       "      <th>height</th>\n",
       "    </tr>\n",
       "  </thead>\n",
       "  <tbody>\n",
       "    <tr>\n",
       "      <th>weight</th>\n",
       "      <td>1.000000</td>\n",
       "      <td>0.067962</td>\n",
       "      <td>0.388350</td>\n",
       "    </tr>\n",
       "    <tr>\n",
       "      <th>age</th>\n",
       "      <td>0.067962</td>\n",
       "      <td>1.000000</td>\n",
       "      <td>-0.003044</td>\n",
       "    </tr>\n",
       "    <tr>\n",
       "      <th>height</th>\n",
       "      <td>0.388350</td>\n",
       "      <td>-0.003044</td>\n",
       "      <td>1.000000</td>\n",
       "    </tr>\n",
       "  </tbody>\n",
       "</table>\n",
       "</div>"
      ],
      "text/plain": [
       "          weight       age    height\n",
       "weight  1.000000  0.067962  0.388350\n",
       "age     0.067962  1.000000 -0.003044\n",
       "height  0.388350 -0.003044  1.000000"
      ]
     },
     "execution_count": 5,
     "metadata": {},
     "output_type": "execute_result"
    }
   ],
   "source": [
    "data.corr()"
   ]
  },
  {
   "cell_type": "code",
   "execution_count": 6,
   "id": "1e103c0c",
   "metadata": {
    "id": "1e103c0c",
    "outputId": "e6cf0b73-906b-4ce2-9c6b-ad9f7bca6187"
   },
   "outputs": [
    {
     "data": {
      "text/html": [
       "<div>\n",
       "<style scoped>\n",
       "    .dataframe tbody tr th:only-of-type {\n",
       "        vertical-align: middle;\n",
       "    }\n",
       "\n",
       "    .dataframe tbody tr th {\n",
       "        vertical-align: top;\n",
       "    }\n",
       "\n",
       "    .dataframe thead th {\n",
       "        text-align: right;\n",
       "    }\n",
       "</style>\n",
       "<table border=\"1\" class=\"dataframe\">\n",
       "  <thead>\n",
       "    <tr style=\"text-align: right;\">\n",
       "      <th></th>\n",
       "      <th>weight</th>\n",
       "      <th>age</th>\n",
       "      <th>height</th>\n",
       "    </tr>\n",
       "  </thead>\n",
       "  <tbody>\n",
       "    <tr>\n",
       "      <th>count</th>\n",
       "      <td>119734.000000</td>\n",
       "      <td>119477.000000</td>\n",
       "      <td>119404.000000</td>\n",
       "    </tr>\n",
       "    <tr>\n",
       "      <th>mean</th>\n",
       "      <td>61.756811</td>\n",
       "      <td>34.027311</td>\n",
       "      <td>165.805794</td>\n",
       "    </tr>\n",
       "    <tr>\n",
       "      <th>std</th>\n",
       "      <td>9.944863</td>\n",
       "      <td>8.149447</td>\n",
       "      <td>6.737651</td>\n",
       "    </tr>\n",
       "    <tr>\n",
       "      <th>min</th>\n",
       "      <td>22.000000</td>\n",
       "      <td>0.000000</td>\n",
       "      <td>137.160000</td>\n",
       "    </tr>\n",
       "    <tr>\n",
       "      <th>25%</th>\n",
       "      <td>55.000000</td>\n",
       "      <td>29.000000</td>\n",
       "      <td>160.020000</td>\n",
       "    </tr>\n",
       "    <tr>\n",
       "      <th>50%</th>\n",
       "      <td>61.000000</td>\n",
       "      <td>32.000000</td>\n",
       "      <td>165.100000</td>\n",
       "    </tr>\n",
       "    <tr>\n",
       "      <th>75%</th>\n",
       "      <td>67.000000</td>\n",
       "      <td>37.000000</td>\n",
       "      <td>170.180000</td>\n",
       "    </tr>\n",
       "    <tr>\n",
       "      <th>max</th>\n",
       "      <td>136.000000</td>\n",
       "      <td>117.000000</td>\n",
       "      <td>193.040000</td>\n",
       "    </tr>\n",
       "  </tbody>\n",
       "</table>\n",
       "</div>"
      ],
      "text/plain": [
       "              weight            age         height\n",
       "count  119734.000000  119477.000000  119404.000000\n",
       "mean       61.756811      34.027311     165.805794\n",
       "std         9.944863       8.149447       6.737651\n",
       "min        22.000000       0.000000     137.160000\n",
       "25%        55.000000      29.000000     160.020000\n",
       "50%        61.000000      32.000000     165.100000\n",
       "75%        67.000000      37.000000     170.180000\n",
       "max       136.000000     117.000000     193.040000"
      ]
     },
     "execution_count": 6,
     "metadata": {},
     "output_type": "execute_result"
    }
   ],
   "source": [
    "data.describe()"
   ]
  },
  {
   "cell_type": "code",
   "execution_count": 7,
   "id": "0048e9b9",
   "metadata": {
    "id": "0048e9b9",
    "outputId": "1465dd7f-0c8f-44c4-96c7-cb7a08b67f55"
   },
   "outputs": [
    {
     "data": {
      "text/plain": [
       "M       29712\n",
       "S       21924\n",
       "XXXL    21359\n",
       "XL      19119\n",
       "L       17587\n",
       "XXS      9964\n",
       "XXL        69\n",
       "Name: size, dtype: int64"
      ]
     },
     "execution_count": 7,
     "metadata": {},
     "output_type": "execute_result"
    }
   ],
   "source": [
    "\n",
    "data['size'].value_counts()"
   ]
  },
  {
   "cell_type": "markdown",
   "id": "8c1528a3",
   "metadata": {
    "id": "8c1528a3"
   },
   "source": [
    "# performing visualization of the dataset"
   ]
  },
  {
   "cell_type": "code",
   "execution_count": null,
   "id": "dbd71e45",
   "metadata": {
    "id": "dbd71e45",
    "outputId": "02ed342a-6f2a-4459-877f-caf39b4fceca"
   },
   "outputs": [],
   "source": []
  },
  {
   "cell_type": "code",
   "execution_count": 8,
   "id": "cabaf7ee",
   "metadata": {
    "id": "cabaf7ee",
    "outputId": "db6398d9-0735-4b93-8731-e645b257e442"
   },
   "outputs": [
    {
     "data": {
      "text/plain": [
       "<AxesSubplot:xlabel='age'>"
      ]
     },
     "execution_count": 8,
     "metadata": {},
     "output_type": "execute_result"
    },
    {
     "data": {
      "image/png": "[encoded data removed]",
      "text/plain": [
       "<Figure size 640x480 with 1 Axes>"
      ]
     },
     "metadata": {},
     "output_type": "display_data"
    }
   ],
   "source": [
    "sns.boxplot('age',data=data)"
   ]
  },
  {
   "cell_type": "code",
   "execution_count": 9,
   "id": "75aef78c",
   "metadata": {
    "id": "75aef78c",
    "outputId": "aeff5bc0-93ae-494c-ffab-8d120a3f026b"
   },
   "outputs": [
    {
     "data": {
      "text/plain": [
       "<AxesSubplot:xlabel='weight'>"
      ]
     },
     "execution_count": 9,
     "metadata": {},
     "output_type": "execute_result"
    },
    {
     "data": {
      "image/png": "[encoded data removed]",
      "text/plain": [
       "<Figure size 640x480 with 1 Axes>"
      ]
     },
     "metadata": {},
     "output_type": "display_data"
    }
   ],
   "source": [
    "sns.boxplot('weight',data=data)"
   ]
  },
  {
   "cell_type": "code",
   "execution_count": 10,
   "id": "6fa62a23",
   "metadata": {
    "id": "6fa62a23",
    "outputId": "92a6c659-9c69-4320-c57e-2022a11f6f45"
   },
   "outputs": [
    {
     "data": {
      "text/plain": [
       "<AxesSubplot:xlabel='height'>"
      ]
     },
     "execution_count": 10,
     "metadata": {},
     "output_type": "execute_result"
    },
    {
     "data": {
      "image/png": "[encoded data removed]",
      "text/plain": [
       "<Figure size 640x480 with 1 Axes>"
      ]
     },
     "metadata": {},
     "output_type": "display_data"
    }
   ],
   "source": [
    "sns.boxplot('height',data=data)"
   ]
  },
  {
   "cell_type": "markdown",
   "id": "c3a35bd8",
   "metadata": {},
   "source": [
    "# otliers removal"
   ]
  },
  {
   "cell_type": "code",
   "execution_count": 11,
   "id": "d8e897f2",
   "metadata": {},
   "outputs": [
    {
     "data": {
      "text/html": [
       "<div>\n",
       "<style scoped>\n",
       "    .dataframe tbody tr th:only-of-type {\n",
       "        vertical-align: middle;\n",
       "    }\n",
       "\n",
       "    .dataframe tbody tr th {\n",
       "        vertical-align: top;\n",
       "    }\n",
       "\n",
       "    .dataframe thead th {\n",
       "        text-align: right;\n",
       "    }\n",
       "</style>\n",
       "<table border=\"1\" class=\"dataframe\">\n",
       "  <thead>\n",
       "    <tr style=\"text-align: right;\">\n",
       "      <th></th>\n",
       "      <th>age</th>\n",
       "      <th>height</th>\n",
       "      <th>weight</th>\n",
       "      <th>size</th>\n",
       "    </tr>\n",
       "  </thead>\n",
       "  <tbody>\n",
       "    <tr>\n",
       "      <th>0</th>\n",
       "      <td>28.0</td>\n",
       "      <td>172.72</td>\n",
       "      <td>62</td>\n",
       "      <td>XL</td>\n",
       "    </tr>\n",
       "    <tr>\n",
       "      <th>24</th>\n",
       "      <td>29.0</td>\n",
       "      <td>177.80</td>\n",
       "      <td>74</td>\n",
       "      <td>XL</td>\n",
       "    </tr>\n",
       "    <tr>\n",
       "      <th>25</th>\n",
       "      <td>32.0</td>\n",
       "      <td>160.02</td>\n",
       "      <td>64</td>\n",
       "      <td>XL</td>\n",
       "    </tr>\n",
       "    <tr>\n",
       "      <th>28</th>\n",
       "      <td>31.0</td>\n",
       "      <td>154.94</td>\n",
       "      <td>58</td>\n",
       "      <td>XL</td>\n",
       "    </tr>\n",
       "    <tr>\n",
       "      <th>34</th>\n",
       "      <td>36.0</td>\n",
       "      <td>162.56</td>\n",
       "      <td>68</td>\n",
       "      <td>XL</td>\n",
       "    </tr>\n",
       "  </tbody>\n",
       "</table>\n",
       "</div>"
      ],
      "text/plain": [
       "     age  height  weight size\n",
       "0   28.0  172.72      62   XL\n",
       "24  29.0  177.80      74   XL\n",
       "25  32.0  160.02      64   XL\n",
       "28  31.0  154.94      58   XL\n",
       "34  36.0  162.56      68   XL"
      ]
     },
     "execution_count": 11,
     "metadata": {},
     "output_type": "execute_result"
    }
   ],
   "source": [
    "df = []\n",
    "zscore_threshold = 3\n",
    "for size_type in data['size'].unique():\n",
    "    ndf = data[['age', 'height', 'weight']][data['size'] == size_type]\n",
    "    zscore = np.abs((ndf - ndf.mean()) / ndf.std())\n",
    "    ndf = ndf[(zscore < zscore_threshold).all(axis=1)]\n",
    "    ndf['size'] = size_type\n",
    "    df.append(ndf)\n",
    "    df_cleaned = pd.concat(df)\n",
    "data=df_cleaned\n",
    "data.head()"
   ]
  },
  {
   "cell_type": "code",
   "execution_count": 12,
   "id": "6d6e77f7",
   "metadata": {},
   "outputs": [],
   "source": [
    "from sklearn.preprocessing import LabelEncoder\n",
    "le=LabelEncoder()\n",
    "data['size']=le.fit_transform(data['size'])"
   ]
  },
  {
   "cell_type": "code",
   "execution_count": 13,
   "id": "c65d6f8c",
   "metadata": {},
   "outputs": [
    {
     "data": {
      "text/plain": [
       "array(['L', 'M', 'S', 'XL', 'XXL', 'XXS', 'XXXL'], dtype=object)"
      ]
     },
     "execution_count": 13,
     "metadata": {},
     "output_type": "execute_result"
    }
   ],
   "source": [
    "le.classes_"
   ]
  },
  {
   "cell_type": "code",
   "execution_count": 14,
   "id": "46ad8b79",
   "metadata": {
    "id": "46ad8b79",
    "outputId": "a54fa92b-ebfc-4ceb-c681-4a6bf5188967"
   },
   "outputs": [],
   "source": [
    "# plt.figure(figsize=(12,12))\n",
    "# sns.heatmap(data.corr(),annot=True,cmap='terrain')"
   ]
  },
  {
   "cell_type": "code",
   "execution_count": 15,
   "id": "6494034b",
   "metadata": {},
   "outputs": [
    {
     "name": "stdout",
     "output_type": "stream",
     "text": [
      "<class 'pandas.core.frame.DataFrame'>\n",
      "Int64Index: 116487 entries, 0 to 117637\n",
      "Data columns (total 4 columns):\n",
      " #   Column  Non-Null Count   Dtype  \n",
      "---  ------  --------------   -----  \n",
      " 0   age     116487 non-null  float64\n",
      " 1   height  116487 non-null  float64\n",
      " 2   weight  116487 non-null  int64  \n",
      " 3   size    116487 non-null  int32  \n",
      "dtypes: float64(2), int32(1), int64(1)\n",
      "memory usage: 4.0 MB\n"
     ]
    }
   ],
   "source": [
    "data.info()"
   ]
  },
  {
   "cell_type": "code",
   "execution_count": 16,
   "id": "a6be939d",
   "metadata": {
    "id": "a6be939d"
   },
   "outputs": [],
   "source": [
    "data=data.dropna()\n",
    "data['bmi'] = data['height']/data['weight']"
   ]
  },
  {
   "cell_type": "code",
   "execution_count": 17,
   "id": "86bb8654",
   "metadata": {},
   "outputs": [
    {
     "name": "stdout",
     "output_type": "stream",
     "text": [
      "<class 'pandas.core.frame.DataFrame'>\n",
      "Int64Index: 116487 entries, 0 to 117637\n",
      "Data columns (total 5 columns):\n",
      " #   Column  Non-Null Count   Dtype  \n",
      "---  ------  --------------   -----  \n",
      " 0   age     116487 non-null  float64\n",
      " 1   height  116487 non-null  float64\n",
      " 2   weight  116487 non-null  int64  \n",
      " 3   size    116487 non-null  int32  \n",
      " 4   bmi     116487 non-null  float64\n",
      "dtypes: float64(3), int32(1), int64(1)\n",
      "memory usage: 4.9 MB\n"
     ]
    }
   ],
   "source": [
    "data.info()"
   ]
  },
  {
   "cell_type": "markdown",
   "id": "b52e4b6a",
   "metadata": {
    "id": "b52e4b6a"
   },
   "source": [
    "# data Splitting "
   ]
  },
  {
   "cell_type": "code",
   "execution_count": 18,
   "id": "3e742e96",
   "metadata": {},
   "outputs": [],
   "source": [
    "x=data.drop('size',axis=1)\n",
    "y=data['size']\n"
   ]
  },
  {
   "cell_type": "code",
   "execution_count": 19,
   "id": "725ad824",
   "metadata": {},
   "outputs": [
    {
     "data": {
      "text/html": [
       "<div>\n",
       "<style scoped>\n",
       "    .dataframe tbody tr th:only-of-type {\n",
       "        vertical-align: middle;\n",
       "    }\n",
       "\n",
       "    .dataframe tbody tr th {\n",
       "        vertical-align: top;\n",
       "    }\n",
       "\n",
       "    .dataframe thead th {\n",
       "        text-align: right;\n",
       "    }\n",
       "</style>\n",
       "<table border=\"1\" class=\"dataframe\">\n",
       "  <thead>\n",
       "    <tr style=\"text-align: right;\">\n",
       "      <th></th>\n",
       "      <th>age</th>\n",
       "      <th>height</th>\n",
       "      <th>weight</th>\n",
       "      <th>bmi</th>\n",
       "    </tr>\n",
       "  </thead>\n",
       "  <tbody>\n",
       "    <tr>\n",
       "      <th>0</th>\n",
       "      <td>28.0</td>\n",
       "      <td>172.72</td>\n",
       "      <td>62</td>\n",
       "      <td>2.785806</td>\n",
       "    </tr>\n",
       "    <tr>\n",
       "      <th>24</th>\n",
       "      <td>29.0</td>\n",
       "      <td>177.80</td>\n",
       "      <td>74</td>\n",
       "      <td>2.402703</td>\n",
       "    </tr>\n",
       "    <tr>\n",
       "      <th>25</th>\n",
       "      <td>32.0</td>\n",
       "      <td>160.02</td>\n",
       "      <td>64</td>\n",
       "      <td>2.500313</td>\n",
       "    </tr>\n",
       "    <tr>\n",
       "      <th>28</th>\n",
       "      <td>31.0</td>\n",
       "      <td>154.94</td>\n",
       "      <td>58</td>\n",
       "      <td>2.671379</td>\n",
       "    </tr>\n",
       "    <tr>\n",
       "      <th>34</th>\n",
       "      <td>36.0</td>\n",
       "      <td>162.56</td>\n",
       "      <td>68</td>\n",
       "      <td>2.390588</td>\n",
       "    </tr>\n",
       "    <tr>\n",
       "      <th>...</th>\n",
       "      <td>...</td>\n",
       "      <td>...</td>\n",
       "      <td>...</td>\n",
       "      <td>...</td>\n",
       "    </tr>\n",
       "    <tr>\n",
       "      <th>112707</th>\n",
       "      <td>24.0</td>\n",
       "      <td>149.86</td>\n",
       "      <td>68</td>\n",
       "      <td>2.203824</td>\n",
       "    </tr>\n",
       "    <tr>\n",
       "      <th>114732</th>\n",
       "      <td>30.0</td>\n",
       "      <td>160.02</td>\n",
       "      <td>74</td>\n",
       "      <td>2.162432</td>\n",
       "    </tr>\n",
       "    <tr>\n",
       "      <th>114803</th>\n",
       "      <td>32.0</td>\n",
       "      <td>160.02</td>\n",
       "      <td>69</td>\n",
       "      <td>2.319130</td>\n",
       "    </tr>\n",
       "    <tr>\n",
       "      <th>114994</th>\n",
       "      <td>46.0</td>\n",
       "      <td>160.02</td>\n",
       "      <td>64</td>\n",
       "      <td>2.500313</td>\n",
       "    </tr>\n",
       "    <tr>\n",
       "      <th>117637</th>\n",
       "      <td>29.0</td>\n",
       "      <td>167.64</td>\n",
       "      <td>77</td>\n",
       "      <td>2.177143</td>\n",
       "    </tr>\n",
       "  </tbody>\n",
       "</table>\n",
       "<p>116487 rows × 4 columns</p>\n",
       "</div>"
      ],
      "text/plain": [
       "         age  height  weight       bmi\n",
       "0       28.0  172.72      62  2.785806\n",
       "24      29.0  177.80      74  2.402703\n",
       "25      32.0  160.02      64  2.500313\n",
       "28      31.0  154.94      58  2.671379\n",
       "34      36.0  162.56      68  2.390588\n",
       "...      ...     ...     ...       ...\n",
       "112707  24.0  149.86      68  2.203824\n",
       "114732  30.0  160.02      74  2.162432\n",
       "114803  32.0  160.02      69  2.319130\n",
       "114994  46.0  160.02      64  2.500313\n",
       "117637  29.0  167.64      77  2.177143\n",
       "\n",
       "[116487 rows x 4 columns]"
      ]
     },
     "execution_count": 19,
     "metadata": {},
     "output_type": "execute_result"
    }
   ],
   "source": [
    "x"
   ]
  },
  {
   "cell_type": "code",
   "execution_count": 20,
   "id": "7b91b02a",
   "metadata": {
    "id": "7b91b02a"
   },
   "outputs": [],
   "source": [
    "\n",
    "from imblearn.over_sampling import SMOTE\n",
    "smote = SMOTE()\n",
    "x, y = smote.fit_resample(x, y)\n",
    "\n"
   ]
  },
  {
   "cell_type": "code",
   "execution_count": null,
   "id": "e208592a",
   "metadata": {},
   "outputs": [],
   "source": []
  },
  {
   "cell_type": "code",
   "execution_count": 21,
   "id": "16f29018",
   "metadata": {
    "id": "16f29018"
   },
   "outputs": [],
   "source": [
    "x_train,x_test,y_train,y_test=train_test_split(x,y,test_size=0.30)"
   ]
  },
  {
   "cell_type": "code",
   "execution_count": 22,
   "id": "addaaaf5",
   "metadata": {
    "id": "addaaaf5",
    "outputId": "3293fb99-2431-4b54-efee-c6a2e7655adb"
   },
   "outputs": [
    {
     "name": "stdout",
     "output_type": "stream",
     "text": [
      "Cross-validation scores: [0.6066441  0.60095221 0.60599542 0.60479633 0.60299771]\n",
      "Mean accuracy: 0.6042771529247294\n",
      "              precision    recall  f1-score   support\n",
      "\n",
      "           0       0.48      0.45      0.46      9435\n",
      "           1       0.44      0.42      0.43      8918\n",
      "           2       0.46      0.48      0.47      8304\n",
      "           3       0.46      0.49      0.47      8079\n",
      "           4       0.99      0.99      0.99      8648\n",
      "           5       0.72      0.68      0.70      9228\n",
      "           6       0.74      0.79      0.76      8150\n",
      "\n",
      "    accuracy                           0.61     60762\n",
      "   macro avg       0.61      0.61      0.61     60762\n",
      "weighted avg       0.61      0.61      0.61     60762\n",
      "\n"
     ]
    }
   ],
   "source": [
    "dt=DecisionTreeClassifier()\n",
    "kFold=StratifiedKFold(n_splits=5)\n",
    "cv_scores = cross_val_score(dt, x_train, y_train, cv=kFold, scoring='accuracy')\n",
    "print(f\"Cross-validation scores: {cv_scores}\")\n",
    "print(f\"Mean accuracy: {cv_scores.mean()}\")\n",
    "dt.fit(x_train,y_train)\n",
    "predictions = dt.predict(x_test)\n",
    "print(classification_report(predictions,y_test))\n"
   ]
  },
  {
   "cell_type": "code",
   "execution_count": 23,
   "id": "6d048dd6",
   "metadata": {},
   "outputs": [],
   "source": [
    "from sklearn.model_selection import cross_val_score"
   ]
  },
  {
   "cell_type": "code",
   "execution_count": 24,
   "id": "9b764177",
   "metadata": {
    "id": "9b764177",
    "outputId": "4e061559-0e45-40e3-c296-4b4e27f5630c"
   },
   "outputs": [
    {
     "name": "stdout",
     "output_type": "stream",
     "text": [
      "Cross-validation scores: [0.61249824 0.60546641 0.61128549 0.61093282 0.6095574 ]\n",
      "Mean accuracy: 0.6099480691360487\n",
      "              precision    recall  f1-score   support\n",
      "\n",
      "           0       0.46      0.46      0.46      8911\n",
      "           1       0.43      0.43      0.43      8740\n",
      "           2       0.46      0.49      0.47      8277\n",
      "           3       0.47      0.49      0.48      8212\n",
      "           4       0.99      0.99      0.99      8703\n",
      "           5       0.74      0.67      0.70      9520\n",
      "           6       0.76      0.78      0.77      8399\n",
      "\n",
      "    accuracy                           0.62     60762\n",
      "   macro avg       0.62      0.61      0.61     60762\n",
      "weighted avg       0.62      0.62      0.62     60762\n",
      "\n"
     ]
    }
   ],
   "source": [
    "rf=RandomForestClassifier(100)\n",
    "kFold=StratifiedKFold(n_splits=5)\n",
    "cv_scores = cross_val_score(rf, x_train, y_train, cv=kFold, scoring='accuracy')\n",
    "print(f\"Cross-validation scores: {cv_scores}\")\n",
    "print(f\"Mean accuracy: {cv_scores.mean()}\")\n",
    "rf.fit(x_train,y_train)\n",
    "predictions = rf.predict(x_test)\n",
    "print(classification_report(predictions,y_test))\n"
   ]
  },
  {
   "cell_type": "code",
   "execution_count": null,
   "id": "12f8d3b1",
   "metadata": {},
   "outputs": [],
   "source": [
    "import pickle\n",
    "import gzip\n",
    "import numpy as np\n",
    "\n",
    "with gzip.open('model.pkl.gz', 'wb') as f:\n",
    "    pickle.dump(rf, f)"
   ]
  },
  {
   "cell_type": "code",
   "execution_count": 1,
   "id": "e15476a3",
   "metadata": {},
   "outputs": [],
   "source": [
    "with gzip.open('model.pkl.gz', 'rb') as f:\n",
    "    model = pickle.load(f)"
   ]
  },
  {
   "cell_type": "code",
   "execution_count": null,
   "id": "f068b2ce",
   "metadata": {},
   "outputs": [],
   "source": []
  }
 ],
 "metadata": {
  "colab": {
   "provenance": []
  },
  "kernelspec": {
   "display_name": "Python 3 (ipykernel)",
   "language": "python",
   "name": "python3"
  },
  "language_info": {
   "codemirror_mode": {
    "name": "ipython",
    "version": 3
   },
   "file_extension": ".py",
   "mimetype": "text/x-python",
   "name": "python",
   "nbconvert_exporter": "python",
   "pygments_lexer": "ipython3",
   "version": "3.10.4"
  }
 },
 "nbformat": 4,
 "nbformat_minor": 5
}
